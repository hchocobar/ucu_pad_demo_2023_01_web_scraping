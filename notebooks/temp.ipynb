{
 "cells": [
  {
   "cell_type": "code",
   "execution_count": 1,
   "outputs": [],
   "source": [
    "import requests\n",
    "from bs4 import BeautifulSoup\n",
    "import numpy as np\n",
    "# import re"
   ],
   "metadata": {
    "collapsed": false,
    "ExecuteTime": {
     "end_time": "2023-07-31T23:46:46.895259966Z",
     "start_time": "2023-07-31T23:46:46.654901517Z"
    }
   }
  },
  {
   "cell_type": "code",
   "execution_count": 2,
   "outputs": [],
   "source": [
    "# def transform_html_to_data(soup):\n",
    "#     apartments_data = soup.find_all('class=\"listingCard\"')\n",
    "#     apartments = []\n",
    "#     for apartment in apartments_data:\n",
    "#         price = apartment.find('span', class_='andes-money-amount__fraction').text\n",
    "#         price = int(price.replace(\".\", \"\"))\n",
    "#         address = apartment.find(class_='ui-search-item__group__element ui-search-item__location shops__items-group-details').text\n",
    "#         space_information = apartment.find(class_='ui-search-item__group ui-search-item__group--attributes shops__items-group').text\n",
    "#         if space_information:\n",
    "#             size = re.search(r'(\\d+) m', space_information)\n",
    "#             if size:\n",
    "#                 size = int(size.group(1))\n",
    "#             rooms = re.search(r'(\\d+) dormitorio', space_information)\n",
    "#             if rooms:\n",
    "#                 rooms = int(rooms.group(1))\n",
    "#         data = {'price (CLP)': price, 'rooms': rooms, 'size (m2)': size, 'address': address}\n",
    "#         apartments.append(data)\n",
    "#\n",
    "#     return apartments\n",
    "\n"
   ],
   "metadata": {
    "collapsed": false,
    "ExecuteTime": {
     "end_time": "2023-07-31T23:46:46.902421876Z",
     "start_time": "2023-07-31T23:46:46.897937028Z"
    }
   }
  },
  {
   "cell_type": "code",
   "execution_count": 3,
   "outputs": [],
   "source": [
    "def transform_html_to_data(html):\n",
    "    apartments_data = html.find_all(class_=\"lc-dataWrapper\")\n",
    "    apartments = []\n",
    "    for apartment in apartments_data:\n",
    "        # currency, price\n",
    "        line = apartment.find('div', class_=\"lc-price\").text\n",
    "        line = line.split(' ')\n",
    "        if line[0] != '':\n",
    "            continue\n",
    "        currency = line[1]\n",
    "        price = int(''.join(line[2]).replace('.', ''))\n",
    "        # bedroom, bath, m2,\n",
    "        line = apartment.find('div', class_=\"lc-typologyTag\").contents\n",
    "        if len(line) != 3: \n",
    "            continue\n",
    "        bedroom = line[0].text.split(' ')\n",
    "        bath = line[1].text.split(' ')\n",
    "        m2 = line[2].text.split(' ')\n",
    "        try:\n",
    "            bedroom = int(bedroom[0])\n",
    "        except ValueError:\n",
    "            continue\n",
    "        bath = int(bath[0])\n",
    "        m2 = int(m2[0])\n",
    "        # zone, region\n",
    "        line = apartment.find('strong', class_=\"lc-location\").text\n",
    "        line = line.split(', ')\n",
    "        if len(line) == 0: \n",
    "            continue\n",
    "        zone = line[0]\n",
    "        region = line[1]\n",
    "        data = {'currency': currency, 'price': price, \n",
    "                'bedroom': bedroom, 'bath': bath, 'm2': m2,\n",
    "                'zone': zone, 'region': region}\n",
    "        apartments.append(data)\n",
    "    return apartments\n"
   ],
   "metadata": {
    "collapsed": false,
    "ExecuteTime": {
     "end_time": "2023-07-31T23:46:46.915799654Z",
     "start_time": "2023-07-31T23:46:46.907964260Z"
    }
   }
  },
  {
   "cell_type": "code",
   "execution_count": 4,
   "outputs": [
    {
     "data": {
      "text/plain": "876"
     },
     "execution_count": 4,
     "metadata": {},
     "output_type": "execute_result"
    }
   ],
   "source": [
    "pages = np.arange(1, 51)\n",
    "apartments_list = []\n",
    "for page in pages:\n",
    "    url = f'https://www.infocasas.com.uy/venta/inmuebles/pagina{page}'\n",
    "    headers = {'User-Agent': 'Mozilla/5.0 (X11; Ubuntu; Linux x86_64; rv:109.0) Gecko/20100101 Firefox/115.0'}\n",
    "    response = requests.request(\"GET\", url, headers=headers, data={})\n",
    "    soup = BeautifulSoup(response.content)\n",
    "    # apartments_list += [soup]\n",
    "    apartments_list += transform_html_to_data(soup)\n",
    "\n",
    "len(apartments_list)"
   ],
   "metadata": {
    "collapsed": false,
    "ExecuteTime": {
     "end_time": "2023-07-31T23:48:55.038582641Z",
     "start_time": "2023-07-31T23:46:46.917639060Z"
    }
   }
  },
  {
   "cell_type": "markdown",
   "source": [
    "## Transformamos los datos en un DataFrame"
   ],
   "metadata": {
    "collapsed": false
   }
  },
  {
   "cell_type": "code",
   "execution_count": 76,
   "outputs": [],
   "source": [
    "import pandas as pd\n",
    "df = pd.DataFrame(apartments_list)\n",
    "df.shape"
   ],
   "metadata": {
    "collapsed": false,
    "ExecuteTime": {
     "end_time": "2023-08-01T01:06:51.643324894Z",
     "start_time": "2023-08-01T01:06:51.595239555Z"
    }
   }
  },
  {
   "cell_type": "markdown",
   "source": [
    "Filtramos por 'bedrooms'"
   ],
   "metadata": {
    "collapsed": false
   }
  },
  {
   "cell_type": "code",
   "execution_count": 77,
   "outputs": [
    {
     "data": {
      "text/plain": "bedroom\n3    278\n2    246\n4    149\n1    143\n5     50\ndtype: int64"
     },
     "execution_count": 77,
     "metadata": {},
     "output_type": "execute_result"
    }
   ],
   "source": [
    "df = df[df['bedroom'] < 6]\n",
    "df.value_counts(\"bedroom\")"
   ],
   "metadata": {
    "collapsed": false,
    "ExecuteTime": {
     "end_time": "2023-08-01T01:07:38.538066449Z",
     "start_time": "2023-08-01T01:07:38.493515266Z"
    }
   }
  },
  {
   "cell_type": "code",
   "execution_count": 7,
   "outputs": [],
   "source": [
    "# df.to_json('../data/inmuebles_en_venta.json')"
   ],
   "metadata": {
    "collapsed": false,
    "ExecuteTime": {
     "end_time": "2023-07-31T23:48:55.736879182Z",
     "start_time": "2023-07-31T23:48:55.699208021Z"
    }
   }
  },
  {
   "cell_type": "markdown",
   "source": [
    "## Filtramos por 'currency'"
   ],
   "metadata": {
    "collapsed": false
   }
  },
  {
   "cell_type": "code",
   "execution_count": 78,
   "outputs": [
    {
     "data": {
      "text/plain": "currency\nU$S    865\ndtype: int64"
     },
     "execution_count": 78,
     "metadata": {},
     "output_type": "execute_result"
    }
   ],
   "source": [
    "df = df[df['currency'] == 'U$S']\n",
    "df.value_counts('currency')"
   ],
   "metadata": {
    "collapsed": false,
    "ExecuteTime": {
     "end_time": "2023-08-01T01:07:55.197669734Z",
     "start_time": "2023-08-01T01:07:55.157084744Z"
    }
   }
  },
  {
   "cell_type": "markdown",
   "source": [
    "## Filtramos por price"
   ],
   "metadata": {
    "collapsed": false
   }
  },
  {
   "cell_type": "code",
   "execution_count": 79,
   "outputs": [
    {
     "data": {
      "text/plain": "<Axes: xlabel='bedroom', ylabel='price'>"
     },
     "execution_count": 79,
     "metadata": {},
     "output_type": "execute_result"
    },
    {
     "data": {
      "text/plain": "<Figure size 640x480 with 1 Axes>",
      "image/png": "[encoded data removed]"
     },
     "metadata": {},
     "output_type": "display_data"
    }
   ],
   "source": [
    "df.plot.scatter(y='price', x='bedroom')"
   ],
   "metadata": {
    "collapsed": false,
    "ExecuteTime": {
     "end_time": "2023-08-01T01:08:07.131183586Z",
     "start_time": "2023-08-01T01:08:06.849718681Z"
    }
   }
  },
  {
   "cell_type": "code",
   "execution_count": 81,
   "outputs": [
    {
     "data": {
      "text/plain": "(864, 7)"
     },
     "execution_count": 81,
     "metadata": {},
     "output_type": "execute_result"
    }
   ],
   "source": [
    "df = df[df['price'] < 2500000]\n",
    "df.shape"
   ],
   "metadata": {
    "collapsed": false,
    "ExecuteTime": {
     "end_time": "2023-08-01T01:09:14.137999107Z",
     "start_time": "2023-08-01T01:09:14.093825312Z"
    }
   }
  },
  {
   "cell_type": "code",
   "execution_count": 82,
   "outputs": [
    {
     "data": {
      "text/plain": "region\nMontevideo    599\nMaldonado     175\nCanelones      83\nColonia         4\nDurazno         1\nRocha           1\nSan José        1\ndtype: int64"
     },
     "execution_count": 82,
     "metadata": {},
     "output_type": "execute_result"
    }
   ],
   "source": [
    "df.value_counts('region')"
   ],
   "metadata": {
    "collapsed": false,
    "ExecuteTime": {
     "end_time": "2023-08-01T01:09:39.301751899Z",
     "start_time": "2023-08-01T01:09:39.253681764Z"
    }
   }
  },
  {
   "cell_type": "code",
   "execution_count": 83,
   "outputs": [
    {
     "data": {
      "text/plain": "(864, 7)"
     },
     "execution_count": 83,
     "metadata": {},
     "output_type": "execute_result"
    }
   ],
   "source": [
    "df.shape"
   ],
   "metadata": {
    "collapsed": false,
    "ExecuteTime": {
     "end_time": "2023-08-01T01:10:00.841971893Z",
     "start_time": "2023-08-01T01:10:00.798590633Z"
    }
   }
  }
 ],
 "metadata": {
  "kernelspec": {
   "display_name": "Python 3",
   "language": "python",
   "name": "python3"
  },
  "language_info": {
   "codemirror_mode": {
    "name": "ipython",
    "version": 2
   },
   "file_extension": ".py",
   "mimetype": "text/x-python",
   "name": "python",
   "nbconvert_exporter": "python",
   "pygments_lexer": "ipython2",
   "version": "2.7.6"
  }
 },
 "nbformat": 4,
 "nbformat_minor": 0
}
