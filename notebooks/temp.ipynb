{
 "cells": [
  {
   "cell_type": "code",
   "execution_count": 2,
   "outputs": [],
   "source": [
    "import requests\n",
    "from bs4 import BeautifulSoup\n",
    "import numpy as np\n",
    "# import re"
   ],
   "metadata": {
    "collapsed": false,
    "ExecuteTime": {
     "end_time": "2023-08-02T22:42:13.808292532Z",
     "start_time": "2023-08-02T22:42:13.344536332Z"
    }
   }
  },
  {
   "cell_type": "code",
   "execution_count": 3,
   "outputs": [],
   "source": [
    "# def transform_html_to_data(soup):\n",
    "#     apartments_data = soup.find_all('class=\"listingCard\"')\n",
    "#     apartments = []\n",
    "#     for apartment in apartments_data:\n",
    "#         price = apartment.find('span', class_='andes-money-amount__fraction').text\n",
    "#         price = int(price.replace(\".\", \"\"))\n",
    "#         address = apartment.find(class_='ui-search-item__group__element ui-search-item__location shops__items-group-details').text\n",
    "#         space_information = apartment.find(class_='ui-search-item__group ui-search-item__group--attributes shops__items-group').text\n",
    "#         if space_information:\n",
    "#             size = re.search(r'(\\d+) m', space_information)\n",
    "#             if size:\n",
    "#                 size = int(size.group(1))\n",
    "#             rooms = re.search(r'(\\d+) dormitorio', space_information)\n",
    "#             if rooms:\n",
    "#                 rooms = int(rooms.group(1))\n",
    "#         data = {'price (CLP)': price, 'rooms': rooms, 'size (m2)': size, 'address': address}\n",
    "#         apartments.append(data)\n",
    "#\n",
    "#     return apartments\n",
    "\n"
   ],
   "metadata": {
    "collapsed": false,
    "ExecuteTime": {
     "end_time": "2023-08-02T22:42:13.809060582Z",
     "start_time": "2023-08-02T22:42:13.793903357Z"
    }
   }
  },
  {
   "cell_type": "code",
   "execution_count": 4,
   "outputs": [],
   "source": [
    "def transform_html_to_data(html):\n",
    "    apartments_data = html.find_all(class_=\"lc-dataWrapper\")\n",
    "    apartments = []\n",
    "    for apartment in apartments_data:\n",
    "        # currency, price\n",
    "        line = apartment.find('div', class_=\"lc-price\").text\n",
    "        line = line.split(' ')\n",
    "        if line[0] != '':\n",
    "            continue\n",
    "        currency = line[1]\n",
    "        price = int(''.join(line[2]).replace('.', ''))\n",
    "        # bedroom, bath, m2,\n",
    "        line = apartment.find('div', class_=\"lc-typologyTag\").contents\n",
    "        if len(line) != 3: \n",
    "            continue\n",
    "        bedroom = line[0].text.split(' ')\n",
    "        bath = line[1].text.split(' ')\n",
    "        m2 = line[2].text.split(' ')\n",
    "        try:\n",
    "            bedroom = int(bedroom[0])\n",
    "        except ValueError:\n",
    "            continue\n",
    "        bath = int(bath[0])\n",
    "        m2 = int(m2[0])\n",
    "        # zone, region\n",
    "        line = apartment.find('strong', class_=\"lc-location\").text\n",
    "        line = line.split(', ')\n",
    "        if len(line) == 0: \n",
    "            continue\n",
    "        zone = line[0]\n",
    "        region = line[1]\n",
    "        data = {'currency': currency, 'price': price, \n",
    "                'bedroom': bedroom, 'bath': bath, 'm2': m2,\n",
    "                'zone': zone, 'region': region}\n",
    "        apartments.append(data)\n",
    "    return apartments\n"
   ],
   "metadata": {
    "collapsed": false,
    "ExecuteTime": {
     "end_time": "2023-08-02T22:42:13.809569680Z",
     "start_time": "2023-08-02T22:42:13.794407876Z"
    }
   }
  },
  {
   "cell_type": "code",
   "execution_count": 5,
   "outputs": [
    {
     "data": {
      "text/plain": "886"
     },
     "execution_count": 5,
     "metadata": {},
     "output_type": "execute_result"
    }
   ],
   "source": [
    "pages = np.arange(1, 51)\n",
    "apartments_list = []\n",
    "for page in pages:\n",
    "    url = f'https://www.infocasas.com.uy/venta/inmuebles/pagina{page}'\n",
    "    headers = {'User-Agent': 'Mozilla/5.0 (X11; Ubuntu; Linux x86_64; rv:109.0) Gecko/20100101 Firefox/115.0'}\n",
    "    response = requests.request(\"GET\", url, headers=headers, data={})\n",
    "    soup = BeautifulSoup(response.content)\n",
    "    # apartments_list += [soup]\n",
    "    apartments_list += transform_html_to_data(soup)\n",
    "\n",
    "len(apartments_list)"
   ],
   "metadata": {
    "collapsed": false,
    "ExecuteTime": {
     "end_time": "2023-08-02T22:44:04.028159640Z",
     "start_time": "2023-08-02T22:42:13.794812886Z"
    }
   }
  },
  {
   "cell_type": "markdown",
   "source": [
    "## Transformamos los datos en un DataFrame"
   ],
   "metadata": {
    "collapsed": false
   }
  },
  {
   "cell_type": "code",
   "execution_count": 19,
   "outputs": [
    {
     "data": {
      "text/plain": "(886, 7)"
     },
     "execution_count": 19,
     "metadata": {},
     "output_type": "execute_result"
    }
   ],
   "source": [
    "import pandas as pd\n",
    "df = pd.DataFrame(apartments_list)\n",
    "df.shape"
   ],
   "metadata": {
    "collapsed": false,
    "ExecuteTime": {
     "end_time": "2023-08-02T23:57:26.068767157Z",
     "start_time": "2023-08-02T23:57:26.024262005Z"
    }
   }
  },
  {
   "cell_type": "markdown",
   "source": [
    "## Data Cleaning\n",
    "### Filtramos por 'bedrooms'"
   ],
   "metadata": {
    "collapsed": false
   }
  },
  {
   "cell_type": "code",
   "execution_count": 7,
   "outputs": [
    {
     "data": {
      "text/plain": "bedroom\n3    287\n2    248\n1    150\n4    142\n5     50\ndtype: int64"
     },
     "execution_count": 7,
     "metadata": {},
     "output_type": "execute_result"
    }
   ],
   "source": [
    "df = df[df['bedroom'] < 6]\n",
    "df.value_counts(\"bedroom\")"
   ],
   "metadata": {
    "collapsed": false,
    "ExecuteTime": {
     "end_time": "2023-08-02T22:44:04.582622538Z",
     "start_time": "2023-08-02T22:44:04.516398368Z"
    }
   }
  },
  {
   "cell_type": "code",
   "execution_count": 8,
   "outputs": [],
   "source": [
    "# df.to_json('../data/inmuebles_en_venta.json')"
   ],
   "metadata": {
    "collapsed": false,
    "ExecuteTime": {
     "end_time": "2023-08-02T22:44:04.583280789Z",
     "start_time": "2023-08-02T22:44:04.574934491Z"
    }
   }
  },
  {
   "cell_type": "markdown",
   "source": [
    "### Filtramos por 'currency'"
   ],
   "metadata": {
    "collapsed": false
   }
  },
  {
   "cell_type": "code",
   "execution_count": 9,
   "outputs": [
    {
     "data": {
      "text/plain": "currency\nU$S    876\ndtype: int64"
     },
     "execution_count": 9,
     "metadata": {},
     "output_type": "execute_result"
    }
   ],
   "source": [
    "df = df[df['currency'] == 'U$S']\n",
    "df.value_counts('currency')"
   ],
   "metadata": {
    "collapsed": false,
    "ExecuteTime": {
     "end_time": "2023-08-02T22:44:04.590446265Z",
     "start_time": "2023-08-02T22:44:04.575373181Z"
    }
   }
  },
  {
   "cell_type": "markdown",
   "source": [
    "### Filtramos por price"
   ],
   "metadata": {
    "collapsed": false
   }
  },
  {
   "cell_type": "code",
   "execution_count": 10,
   "outputs": [
    {
     "data": {
      "text/plain": "<Axes: xlabel='bedroom', ylabel='price'>"
     },
     "execution_count": 10,
     "metadata": {},
     "output_type": "execute_result"
    },
    {
     "data": {
      "text/plain": "<Figure size 640x480 with 1 Axes>",
      "image/png": "[encoded data removed]"
     },
     "metadata": {},
     "output_type": "display_data"
    }
   ],
   "source": [
    "df.plot.scatter(y='price', x='bedroom')"
   ],
   "metadata": {
    "collapsed": false,
    "ExecuteTime": {
     "end_time": "2023-08-02T22:44:05.573116878Z",
     "start_time": "2023-08-02T22:44:04.575905240Z"
    }
   }
  },
  {
   "cell_type": "code",
   "execution_count": 11,
   "outputs": [
    {
     "data": {
      "text/plain": "(875, 7)"
     },
     "execution_count": 11,
     "metadata": {},
     "output_type": "execute_result"
    }
   ],
   "source": [
    "df = df[df['price'] < 2500000]\n",
    "df.shape"
   ],
   "metadata": {
    "collapsed": false,
    "ExecuteTime": {
     "end_time": "2023-08-02T22:44:05.699446254Z",
     "start_time": "2023-08-02T22:44:05.574842272Z"
    }
   }
  },
  {
   "cell_type": "code",
   "execution_count": 12,
   "outputs": [
    {
     "data": {
      "text/plain": "region\nMontevideo    620\nMaldonado     169\nCanelones      84\nRocha           1\nSan José        1\ndtype: int64"
     },
     "execution_count": 12,
     "metadata": {},
     "output_type": "execute_result"
    }
   ],
   "source": [
    "df.value_counts('region')"
   ],
   "metadata": {
    "collapsed": false,
    "ExecuteTime": {
     "end_time": "2023-08-02T22:44:05.700630893Z",
     "start_time": "2023-08-02T22:44:05.617879120Z"
    }
   }
  },
  {
   "cell_type": "code",
   "execution_count": 13,
   "outputs": [
    {
     "data": {
      "text/plain": "bedroom\n3    287\n2    248\n1    149\n4    141\n5     50\ndtype: int64"
     },
     "execution_count": 13,
     "metadata": {},
     "output_type": "execute_result"
    }
   ],
   "source": [
    "df.value_counts('bedroom')"
   ],
   "metadata": {
    "collapsed": false,
    "ExecuteTime": {
     "end_time": "2023-08-02T22:44:05.701553059Z",
     "start_time": "2023-08-02T22:44:05.618385230Z"
    }
   }
  },
  {
   "cell_type": "code",
   "execution_count": 1,
   "outputs": [
    {
     "ename": "NameError",
     "evalue": "name 'df' is not defined",
     "output_type": "error",
     "traceback": [
      "\u001B[0;31m---------------------------------------------------------------------------\u001B[0m",
      "\u001B[0;31mNameError\u001B[0m                                 Traceback (most recent call last)",
      "Cell \u001B[0;32mIn[1], line 1\u001B[0m\n\u001B[0;32m----> 1\u001B[0m \u001B[43mdf\u001B[49m\u001B[38;5;241m.\u001B[39mshape\n",
      "\u001B[0;31mNameError\u001B[0m: name 'df' is not defined"
     ]
    }
   ],
   "source": [
    "df.shape"
   ],
   "metadata": {
    "collapsed": false,
    "ExecuteTime": {
     "end_time": "2023-08-04T21:54:40.866190785Z",
     "start_time": "2023-08-04T21:54:40.366133046Z"
    }
   }
  },
  {
   "cell_type": "code",
   "execution_count": null,
   "outputs": [],
   "source": [],
   "metadata": {
    "collapsed": false
   }
  }
 ],
 "metadata": {
  "kernelspec": {
   "display_name": "Python 3",
   "language": "python",
   "name": "python3"
  },
  "language_info": {
   "codemirror_mode": {
    "name": "ipython",
    "version": 2
   },
   "file_extension": ".py",
   "mimetype": "text/x-python",
   "name": "python",
   "nbconvert_exporter": "python",
   "pygments_lexer": "ipython2",
   "version": "2.7.6"
  }
 },
 "nbformat": 4,
 "nbformat_minor": 0
}
